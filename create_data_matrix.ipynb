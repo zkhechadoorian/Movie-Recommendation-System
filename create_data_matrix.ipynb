{
 "cells": [
  {
   "cell_type": "code",
   "execution_count": 23,
   "metadata": {},
   "outputs": [],
   "source": [
    "import csv\n",
    "import numpy as np\n",
    "import pandas as pd\n",
    "import pickle\n",
    "import matplotlib.pyplot as plt\n",
    "import seaborn as sns"
   ]
  },
  {
   "cell_type": "markdown",
   "metadata": {},
   "source": [
    "# Reading and Merging Data\n",
    "\n",
    "Our data is split between multiple files, which we will peek into using this script. Based on the information in those files, I'd like to populate the following dictionaries. Each dictionary name is formatted as `key_value` to help us remember which values are being mapped to one another. For example, `movieId_movieName` is a dictionary whose keys store movie ID numbers, and values store movie titles."
   ]
  },
  {
   "cell_type": "code",
   "execution_count": null,
   "metadata": {},
   "outputs": [],
   "source": [
    "movieId_movieName = {} \n",
    "userId_rating     = {} \n",
    "movieId_isRated   = {} # stores boolean T/F if a movie has been rated by 1+ users\n",
    "\n",
    "movieId_movieCol  = {} \n",
    "userId_userRow    = {} "
   ]
  },
  {
   "cell_type": "markdown",
   "metadata": {},
   "source": [
    "We'll start with the movies.csv file. The cells below read the csv into a dataframe, print the first few rows, and the shape. We see that it stores."
   ]
  },
  {
   "cell_type": "code",
   "execution_count": 3,
   "metadata": {},
   "outputs": [],
   "source": [
    "filename = 'movies.csv'\n",
    "df = pd.read_csv('data/{}'.format(filename))"
   ]
  },
  {
   "cell_type": "code",
   "execution_count": 4,
   "metadata": {},
   "outputs": [
    {
     "data": {
      "text/html": [
       "<div>\n",
       "<style scoped>\n",
       "    .dataframe tbody tr th:only-of-type {\n",
       "        vertical-align: middle;\n",
       "    }\n",
       "\n",
       "    .dataframe tbody tr th {\n",
       "        vertical-align: top;\n",
       "    }\n",
       "\n",
       "    .dataframe thead th {\n",
       "        text-align: right;\n",
       "    }\n",
       "</style>\n",
       "<table border=\"1\" class=\"dataframe\">\n",
       "  <thead>\n",
       "    <tr style=\"text-align: right;\">\n",
       "      <th></th>\n",
       "      <th>movieId</th>\n",
       "      <th>title</th>\n",
       "      <th>genres</th>\n",
       "    </tr>\n",
       "  </thead>\n",
       "  <tbody>\n",
       "    <tr>\n",
       "      <th>0</th>\n",
       "      <td>1</td>\n",
       "      <td>Toy Story (1995)</td>\n",
       "      <td>Adventure|Animation|Children|Comedy|Fantasy</td>\n",
       "    </tr>\n",
       "    <tr>\n",
       "      <th>1</th>\n",
       "      <td>2</td>\n",
       "      <td>Jumanji (1995)</td>\n",
       "      <td>Adventure|Children|Fantasy</td>\n",
       "    </tr>\n",
       "    <tr>\n",
       "      <th>2</th>\n",
       "      <td>3</td>\n",
       "      <td>Grumpier Old Men (1995)</td>\n",
       "      <td>Comedy|Romance</td>\n",
       "    </tr>\n",
       "    <tr>\n",
       "      <th>3</th>\n",
       "      <td>4</td>\n",
       "      <td>Waiting to Exhale (1995)</td>\n",
       "      <td>Comedy|Drama|Romance</td>\n",
       "    </tr>\n",
       "    <tr>\n",
       "      <th>4</th>\n",
       "      <td>5</td>\n",
       "      <td>Father of the Bride Part II (1995)</td>\n",
       "      <td>Comedy</td>\n",
       "    </tr>\n",
       "  </tbody>\n",
       "</table>\n",
       "</div>"
      ],
      "text/plain": [
       "   movieId                               title  \\\n",
       "0        1                    Toy Story (1995)   \n",
       "1        2                      Jumanji (1995)   \n",
       "2        3             Grumpier Old Men (1995)   \n",
       "3        4            Waiting to Exhale (1995)   \n",
       "4        5  Father of the Bride Part II (1995)   \n",
       "\n",
       "                                        genres  \n",
       "0  Adventure|Animation|Children|Comedy|Fantasy  \n",
       "1                   Adventure|Children|Fantasy  \n",
       "2                               Comedy|Romance  \n",
       "3                         Comedy|Drama|Romance  \n",
       "4                                       Comedy  "
      ]
     },
     "execution_count": 4,
     "metadata": {},
     "output_type": "execute_result"
    }
   ],
   "source": [
    "df.head()"
   ]
  },
  {
   "cell_type": "code",
   "execution_count": 5,
   "metadata": {},
   "outputs": [
    {
     "data": {
      "text/plain": [
       "(9125, 3)"
      ]
     },
     "execution_count": 5,
     "metadata": {},
     "output_type": "execute_result"
    }
   ],
   "source": [
    "df.shape"
   ]
  },
  {
   "cell_type": "markdown",
   "metadata": {},
   "source": [
    "Now we can start populating the relevant dictionaries we declared at the start of the script. We'll iterate through the dataframe, taking the movieId as the unique index. From this, we can populate the `movieId_movieName` dictionary. Since this is a comprehensive list of movies in our dataset, we'll give everything a default `isRated` value of 0--meaning that this movie is not yet rated by any users."
   ]
  },
  {
   "cell_type": "code",
   "execution_count": 6,
   "metadata": {},
   "outputs": [],
   "source": [
    "for index, row in df.iterrows():\n",
    "    movieId = row['movieId']\n",
    "    # movieID is the unique index\n",
    "    movieId_movieName[movieId] = row['title']\n",
    "\n",
    "    # Give default rating of 0\n",
    "    movieId_isRated[movieId] = 0 "
   ]
  },
  {
   "cell_type": "markdown",
   "metadata": {},
   "source": [
    "Next we can open the ratings csv file in the same manner. This file contains user ratings for movies based on movieId. We will use this information to fill in the `userId_rating` dictionary. As we work through user ratings, we'll update a movie's `isRated` status if to 1 if it receives a rating. After we're done iterating through the dataset, we'll remove any movies from `movieId_movieName` if it has not received any ratings."
   ]
  },
  {
   "cell_type": "code",
   "execution_count": 7,
   "metadata": {},
   "outputs": [],
   "source": [
    "filename = 'ratings.csv'\n",
    "df = pd.read_csv('data/{}'.format(filename))"
   ]
  },
  {
   "cell_type": "markdown",
   "metadata": {},
   "source": [
    "Here is a preview of the ratings.csv dataset, followed by a simple print of its shape, showing that a total of 100004 ratings exist. "
   ]
  },
  {
   "cell_type": "code",
   "execution_count": 8,
   "metadata": {},
   "outputs": [
    {
     "data": {
      "text/html": [
       "<div>\n",
       "<style scoped>\n",
       "    .dataframe tbody tr th:only-of-type {\n",
       "        vertical-align: middle;\n",
       "    }\n",
       "\n",
       "    .dataframe tbody tr th {\n",
       "        vertical-align: top;\n",
       "    }\n",
       "\n",
       "    .dataframe thead th {\n",
       "        text-align: right;\n",
       "    }\n",
       "</style>\n",
       "<table border=\"1\" class=\"dataframe\">\n",
       "  <thead>\n",
       "    <tr style=\"text-align: right;\">\n",
       "      <th></th>\n",
       "      <th>userId</th>\n",
       "      <th>movieId</th>\n",
       "      <th>rating</th>\n",
       "      <th>timestamp</th>\n",
       "    </tr>\n",
       "  </thead>\n",
       "  <tbody>\n",
       "    <tr>\n",
       "      <th>0</th>\n",
       "      <td>1</td>\n",
       "      <td>31</td>\n",
       "      <td>2.5</td>\n",
       "      <td>1260759144</td>\n",
       "    </tr>\n",
       "    <tr>\n",
       "      <th>1</th>\n",
       "      <td>1</td>\n",
       "      <td>1029</td>\n",
       "      <td>3.0</td>\n",
       "      <td>1260759179</td>\n",
       "    </tr>\n",
       "    <tr>\n",
       "      <th>2</th>\n",
       "      <td>1</td>\n",
       "      <td>1061</td>\n",
       "      <td>3.0</td>\n",
       "      <td>1260759182</td>\n",
       "    </tr>\n",
       "    <tr>\n",
       "      <th>3</th>\n",
       "      <td>1</td>\n",
       "      <td>1129</td>\n",
       "      <td>2.0</td>\n",
       "      <td>1260759185</td>\n",
       "    </tr>\n",
       "    <tr>\n",
       "      <th>4</th>\n",
       "      <td>1</td>\n",
       "      <td>1172</td>\n",
       "      <td>4.0</td>\n",
       "      <td>1260759205</td>\n",
       "    </tr>\n",
       "  </tbody>\n",
       "</table>\n",
       "</div>"
      ],
      "text/plain": [
       "   userId  movieId  rating   timestamp\n",
       "0       1       31     2.5  1260759144\n",
       "1       1     1029     3.0  1260759179\n",
       "2       1     1061     3.0  1260759182\n",
       "3       1     1129     2.0  1260759185\n",
       "4       1     1172     4.0  1260759205"
      ]
     },
     "execution_count": 8,
     "metadata": {},
     "output_type": "execute_result"
    }
   ],
   "source": [
    "df.head()"
   ]
  },
  {
   "cell_type": "code",
   "execution_count": 9,
   "metadata": {},
   "outputs": [
    {
     "data": {
      "text/plain": [
       "(100004, 4)"
      ]
     },
     "execution_count": 9,
     "metadata": {},
     "output_type": "execute_result"
    }
   ],
   "source": [
    "df.shape"
   ]
  },
  {
   "cell_type": "markdown",
   "metadata": {},
   "source": [
    "Although the primary purpose of this script isn't EDA, we can plot a distribution of the movie ratings to get a sense of how users often rate films. Based on the figure below, it seems that there is a selection bias happening! Given that 5/5 ratings are the most common, it may be the case that users are more likely to rate a film that they enjoyed, and not leave any rating for a film they didn't like or even disliked."
   ]
  },
  {
   "cell_type": "code",
   "execution_count": 20,
   "metadata": {},
   "outputs": [
    {
     "data": {
      "image/png": "[encoded data removed]",
      "text/plain": [
       "<Figure size 800x600 with 1 Axes>"
      ]
     },
     "metadata": {},
     "output_type": "display_data"
    }
   ],
   "source": [
    "# Plot histogram of ratings\n",
    "plt.figure(figsize=(8, 6))\n",
    "plt.hist(df['rating'], bins=np.arange(0, 6, 1), edgecolor='black')\n",
    "plt.title('Distribution of Ratings')\n",
    "plt.xlabel('Rating')\n",
    "plt.ylabel('Frequency')\n",
    "plt.xticks(np.arange(0.0, 6.0, 1.0))\n",
    "plt.grid(axis='y')\n",
    "plt.show()"
   ]
  },
  {
   "cell_type": "markdown",
   "metadata": {},
   "source": [
    "In addition to checking what scores are most often given by users in their ratings, we can check how many ratings we have per user. Below is a distribution of this quantity, showing us that the vast majority of users do not rate any movies. This means we will probably have a sparse user-movie data matrix. "
   ]
  },
  {
   "cell_type": "code",
   "execution_count": 31,
   "metadata": {},
   "outputs": [
    {
     "data": {
      "image/png": "[encoded data removed]",
      "text/plain": [
       "<Figure size 800x600 with 1 Axes>"
      ]
     },
     "metadata": {},
     "output_type": "display_data"
    }
   ],
   "source": [
    "# Count the number of ratings per user\n",
    "user_ratings_count = df.groupby('userId')['rating'].count()\n",
    "\n",
    "# Plot histogram of ratings per user\n",
    "plt.figure(figsize=(8, 6))\n",
    "plt.hist(user_ratings_count, bins=30, edgecolor='black')\n",
    "plt.title('Distribution of Ratings Per User')\n",
    "plt.xlabel('Number of Ratings')\n",
    "plt.ylabel('Frequency')\n",
    "plt.grid(axis='y')\n",
    "plt.show()"
   ]
  },
  {
   "cell_type": "markdown",
   "metadata": {},
   "source": [
    "Now we'll iterate through the rows of the dataframe previewed above. From each row, we'll read in the userId, movieId, and rating. For the purposes of this project, we don't need the timestamp column. The relevant dictionaries that can be updated with the new information are `userId_rating` and `movieId_isRated`."
   ]
  },
  {
   "cell_type": "code",
   "execution_count": 10,
   "metadata": {},
   "outputs": [],
   "source": [
    "for index, row in df.iterrows():\n",
    "    userId = row['userId']\n",
    "    movieId = row['movieId']\n",
    "    rating = row['rating']\n",
    "\n",
    "    if userId not in userId_rating.keys():\n",
    "        userId_rating[userId] = [(movieId, rating)]\n",
    "    else:\n",
    "        userId_rating[userId].append((movieId, rating))\n",
    "\n",
    "    movieId_isRated[movieId] = 1\n",
    "\n",
    "for movieId, isRated in movieId_isRated.items():\n",
    "    if isRated == 0:\n",
    "        del movieId_movieName[movieId]"
   ]
  },
  {
   "cell_type": "markdown",
   "metadata": {},
   "source": [
    "Now we will start creating a matrix of ratings where row i represents user i and column j represents movie j. So cell (i,j) is the rating from userId i for movieId j. To start creatig this matrix, we will first fill in the dictionary `movieId_movieCol` and `userId_userRow`. As a reminder, `movieId_movieCol` is a dictionary that returns the column number associated with a given movieId in the data matrix. Why not just use the same movieId as the column number? We could do this if we had movieIds that didn't skip an integer, but with the describe statement printed below, we see that the max Id is 163949, while the number of unique Ids is 100004. Clearly, there are many integers being skipped. Since we don't want to have a large matrix storing empty data, it makes more sense to just reindex the movieIds in increasing order. "
   ]
  },
  {
   "cell_type": "code",
   "execution_count": 14,
   "metadata": {},
   "outputs": [
    {
     "data": {
      "text/plain": [
       "count    100004.000000\n",
       "mean      12548.664363\n",
       "std       26369.198969\n",
       "min           1.000000\n",
       "25%        1028.000000\n",
       "50%        2406.500000\n",
       "75%        5418.000000\n",
       "max      163949.000000\n",
       "Name: movieId, dtype: float64"
      ]
     },
     "execution_count": 14,
     "metadata": {},
     "output_type": "execute_result"
    }
   ],
   "source": [
    "df.movieId.describe()"
   ]
  },
  {
   "cell_type": "code",
   "execution_count": 11,
   "metadata": {},
   "outputs": [],
   "source": [
    "i = 0\n",
    "for movieId in sorted(movieId_movieName):\n",
    "    movieId_movieCol[movieId] = i\n",
    "    i+=1\n",
    "\n",
    "i=0\n",
    "for userId in sorted(userId_rating):\n",
    "    userId_userRow[userId] = i\n",
    "    i+=1"
   ]
  },
  {
   "cell_type": "markdown",
   "metadata": {},
   "source": [
    "Now we'll create the matrix, starting with an initiation of an empty matrix with the correct number of rows (total users) and colums (total movies). Next, we'll update cells to store user ratings for those combinations of (i,j) that hold non-zero ratings. "
   ]
  },
  {
   "cell_type": "code",
   "execution_count": 30,
   "metadata": {},
   "outputs": [
    {
     "name": "stdout",
     "output_type": "stream",
     "text": [
      "(671, 9066)\n",
      "Number of ratings = 100004\n",
      "Total entries = 6083286\n",
      "Sparsity = 1.64%\n"
     ]
    }
   ],
   "source": [
    "m = len(userId_userRow.keys())   # number of userId\n",
    "n = len(movieId_movieCol.keys()) # number of movieId\n",
    "\n",
    "# Create an empty matrix\n",
    "A = np.zeros((m,n))              \n",
    "\n",
    "print(A.shape)\n",
    "\n",
    "# Iterate through each user's ratings\n",
    "for userId, ratings in userId_rating.items():\n",
    "    for rating in ratings:\n",
    "        movieId   = rating[0]\n",
    "        score     = rating[1]\n",
    "        \n",
    "\n",
    "        if (userId in userId_userRow and movieId in movieId_movieCol):\n",
    "            i = userId_userRow[userId]\n",
    "            j = movieId_movieCol[movieId]\n",
    "            \n",
    "            A[i,j] = score\n",
    "\n",
    "ratingCount = 0\n",
    "for i in range(m):\n",
    "    for j in range(n):\n",
    "        if (A[i][j] != 0):\n",
    "            ratingCount += 1\n",
    "\n",
    "print('Number of ratings = {}'.format(ratingCount))\n",
    "print('Total entries = {}'.format(m*n))\n",
    "print('Sparsity = {:.3}%'.format(ratingCount*100/(m*n)))"
   ]
  },
  {
   "cell_type": "markdown",
   "metadata": {},
   "source": [
    "The sparsity above indicates the fraction of cells that are nonzero in the data matrix. Only 1.64% of user-movie combinations have ratings. Below is a visualization using the first 50 users and movies."
   ]
  },
  {
   "cell_type": "code",
   "execution_count": 29,
   "metadata": {},
   "outputs": [
    {
     "data": {
      "image/png": "[encoded data removed]",
      "text/plain": [
       "<Figure size 1000x800 with 2 Axes>"
      ]
     },
     "metadata": {},
     "output_type": "display_data"
    }
   ],
   "source": [
    "# Plot sparsity heatmap\n",
    "plt.figure(figsize=(10, 8))\n",
    "sns.heatmap(A[:50, :50], cmap='Blues', cbar=True)\n",
    "plt.title('Sparsity of User-Item Matrix (First 50 Users and Movies)')\n",
    "plt.xlabel('Movies')\n",
    "plt.ylabel('Users')\n",
    "plt.show()"
   ]
  },
  {
   "cell_type": "markdown",
   "metadata": {},
   "source": [
    "Now we'll store our files into pickle format, which are binary files that hold Python objects and can easily be read in to recover our dictionaries by other Python scripts."
   ]
  },
  {
   "cell_type": "code",
   "execution_count": 13,
   "metadata": {},
   "outputs": [
    {
     "name": "stdout",
     "output_type": "stream",
     "text": [
      "(671, 9066)\n"
     ]
    }
   ],
   "source": [
    "d = {'movieId_movieName': movieId_movieName,\n",
    "     'movieId_movieCol' : movieId_movieCol,\n",
    "     'userId_userRow'   : userId_userRow,\n",
    "     'userId_rating'    : userId_rating }\n",
    "pickle.dump(A, open('data/data_matrix.p', 'wb'))\n",
    "pickle.dump(d, open('data/data_dicts.p', 'wb'))\n",
    "print (A.shape)"
   ]
  }
 ],
 "metadata": {
  "kernelspec": {
   "display_name": ".venv",
   "language": "python",
   "name": "python3"
  },
  "language_info": {
   "codemirror_mode": {
    "name": "ipython",
    "version": 3
   },
   "file_extension": ".py",
   "mimetype": "text/x-python",
   "name": "python",
   "nbconvert_exporter": "python",
   "pygments_lexer": "ipython3",
   "version": "3.12.3"
  }
 },
 "nbformat": 4,
 "nbformat_minor": 2
}
